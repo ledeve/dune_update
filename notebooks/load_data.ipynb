{
 "cells": [
  {
   "cell_type": "code",
   "execution_count": 2,
   "metadata": {},
   "outputs": [],
   "source": [
    "from google.cloud import bigquery\n",
    "import pandas as pd\n",
    "import numpy as np\n",
    "import matplotlib.pyplot as plt\n",
    "import seaborn as sns\n",
    "\n",
    "client = bigquery.Client(\n",
    "    project=\"wildland-prod\",\n",
    ")\n",
    "\n",
    "QUERY1 = (\n",
    "    \"SELECT user_id, epoch, budget \"\n",
    "    \"FROM `wildland-prod.mainnet_backend.public_budgets` \"\n",
    ")\n",
    "query_job = client.query(QUERY1)\n",
    "rows = query_job.result()\n",
    "df_budget_raw = rows.to_dataframe()\n",
    "\n",
    "df_budget_raw.to_csv('data/df_budget.csv', index=False)"
   ]
  }
 ],
 "metadata": {
  "kernelspec": {
   "display_name": "Python 3",
   "language": "python",
   "name": "python3"
  },
  "language_info": {
   "codemirror_mode": {
    "name": "ipython",
    "version": 3
   },
   "file_extension": ".py",
   "mimetype": "text/x-python",
   "name": "python",
   "nbconvert_exporter": "python",
   "pygments_lexer": "ipython3",
   "version": "3.11.6"
  }
 },
 "nbformat": 4,
 "nbformat_minor": 2
}
